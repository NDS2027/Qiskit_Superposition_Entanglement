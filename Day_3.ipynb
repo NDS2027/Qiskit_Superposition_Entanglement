{
  "nbformat": 4,
  "nbformat_minor": 0,
  "metadata": {
    "colab": {
      "provenance": [],
      "authorship_tag": "ABX9TyPK1ExXC+1Z49tgDohcIk3M",
      "include_colab_link": true
    },
    "kernelspec": {
      "name": "python3",
      "display_name": "Python 3"
    },
    "language_info": {
      "name": "python"
    }
  },
  "cells": [
    {
      "cell_type": "markdown",
      "metadata": {
        "id": "view-in-github",
        "colab_type": "text"
      },
      "source": [
        "<a href=\"https://colab.research.google.com/github/NDS2027/Qiskit_Superposition_Entanglement/blob/main/Day_3.ipynb\" target=\"_parent\"><img src=\"https://colab.research.google.com/assets/colab-badge.svg\" alt=\"Open In Colab\"/></a>"
      ]
    },
    {
      "cell_type": "code",
      "execution_count": 1,
      "metadata": {
        "colab": {
          "base_uri": "https://localhost:8080/"
        },
        "id": "Tl3NksZyT0dB",
        "outputId": "beb83d8b-1393-4633-f551-7c9d194352fd"
      },
      "outputs": [
        {
          "output_type": "stream",
          "name": "stdout",
          "text": [
            "\u001b[2K   \u001b[90m━━━━━━━━━━━━━━━━━━━━━━━━━━━━━━━━━━━━━━━━\u001b[0m \u001b[32m8.0/8.0 MB\u001b[0m \u001b[31m46.0 MB/s\u001b[0m eta \u001b[36m0:00:00\u001b[0m\n",
            "\u001b[2K   \u001b[90m━━━━━━━━━━━━━━━━━━━━━━━━━━━━━━━━━━━━━━━━\u001b[0m \u001b[32m2.2/2.2 MB\u001b[0m \u001b[31m70.2 MB/s\u001b[0m eta \u001b[36m0:00:00\u001b[0m\n",
            "\u001b[2K   \u001b[90m━━━━━━━━━━━━━━━━━━━━━━━━━━━━━━━━━━━━━━━━\u001b[0m \u001b[32m49.5/49.5 kB\u001b[0m \u001b[31m3.0 MB/s\u001b[0m eta \u001b[36m0:00:00\u001b[0m\n",
            "\u001b[2K   \u001b[90m━━━━━━━━━━━━━━━━━━━━━━━━━━━━━━━━━━━━━━━━\u001b[0m \u001b[32m12.4/12.4 MB\u001b[0m \u001b[31m105.4 MB/s\u001b[0m eta \u001b[36m0:00:00\u001b[0m\n",
            "\u001b[?25h"
          ]
        }
      ],
      "source": [
        "!pip install qiskit --quiet\n",
        "!pip install qiskit-aer --quiet"
      ]
    },
    {
      "cell_type": "code",
      "source": [
        "from qiskit import QuantumCircuit\n",
        "from qiskit_aer import AerSimulator\n",
        "from qiskit.quantum_info import Statevector\n",
        "from qiskit.visualization import plot_histogram, plot_bloch_multivector\n",
        "import matplotlib.pyplot as plt"
      ],
      "metadata": {
        "id": "QwW7LWrCUCck"
      },
      "execution_count": 3,
      "outputs": []
    },
    {
      "cell_type": "code",
      "source": [
        "\n",
        "# Create 1-qubit circuit\n",
        "qc_super = QuantumCircuit(1)\n",
        "\n",
        "# Apply Hadamard gate to create superposition\n",
        "qc_super.h(0)\n",
        "\n",
        "# Draw the circuit\n",
        "qc_super.draw('text')\n",
        "\n",
        "# Get statevector\n",
        "state_super = Statevector.from_instruction(qc_super)\n",
        "plot_bloch_multivector(state_super)\n",
        "plt.show()\n",
        "\n",
        "# Measure and simulate\n",
        "qc_super.measure_all()\n",
        "simulator = AerSimulator()\n",
        "job_super = simulator.run(qc_super, shots=1024)\n",
        "result_super = job_super.result()\n",
        "counts_super = result_super.get_counts()\n",
        "print(\"Superposition Measurement Counts:\", counts_super)\n",
        "plot_histogram(counts_super)\n",
        "plt.show()"
      ],
      "metadata": {
        "colab": {
          "base_uri": "https://localhost:8080/"
        },
        "id": "sNPjy8TcUHD7",
        "outputId": "8499c1de-7d1a-4afc-a76e-c579be644d29"
      },
      "execution_count": 4,
      "outputs": [
        {
          "output_type": "stream",
          "name": "stdout",
          "text": [
            "Superposition Measurement Counts: {'1': 512, '0': 512}\n"
          ]
        }
      ]
    },
    {
      "cell_type": "code",
      "source": [
        "qc_ent = QuantumCircuit(2)\n",
        "\n",
        "# Apply Hadamard on qubit 0\n",
        "qc_ent.h(0)\n",
        "\n",
        "# Apply CNOT to entangle qubit 0 and 1\n",
        "qc_ent.cx(0, 1)\n",
        "\n",
        "# Draw the circuit\n",
        "qc_ent.draw('text')\n",
        "\n",
        "# Get statevector\n",
        "state_ent = Statevector.from_instruction(qc_ent)\n",
        "print(\"Entangled Statevector:\", state_ent)\n",
        "plot_bloch_multivector(state_ent)\n",
        "plt.show()\n",
        "\n",
        "# Measure and simulate\n",
        "qc_ent.measure_all()\n",
        "job_ent = simulator.run(qc_ent, shots=1024)\n",
        "result_ent = job_ent.result()\n",
        "counts_ent = result_ent.get_counts()\n",
        "print(\"Entanglement Measurement Counts:\", counts_ent)\n",
        "plot_histogram(counts_ent)\n",
        "plt.show()"
      ],
      "metadata": {
        "colab": {
          "base_uri": "https://localhost:8080/"
        },
        "id": "tDmzcU2sUMX-",
        "outputId": "5de9d03a-2c13-4adf-8d50-193bf281b1ec"
      },
      "execution_count": 5,
      "outputs": [
        {
          "output_type": "stream",
          "name": "stdout",
          "text": [
            "Entangled Statevector: Statevector([0.70710678+0.j, 0.        +0.j, 0.        +0.j,\n",
            "             0.70710678+0.j],\n",
            "            dims=(2, 2))\n",
            "Entanglement Measurement Counts: {'00': 504, '11': 520}\n"
          ]
        }
      ]
    },
    {
      "cell_type": "code",
      "source": [
        "#Task1 - Super position\n",
        "\n",
        "from qiskit import QuantumCircuit\n",
        "from qiskit_aer import AerSimulator\n",
        "from qiskit.quantum_info import Statevector\n",
        "from qiskit.visualization import plot_histogram, plot_bloch_multivector\n",
        "import matplotlib.pyplot as plt\n",
        "\n",
        "qc = QuantumCircuit(1, 1)\n",
        "qc.h(0)  # Apply Hadamard to create superposition\n",
        "\n",
        "# Circuit diagram before measurement (text version)\n",
        "print(\"Circuit before measurement:\")\n",
        "print(qc.draw('text'))\n",
        "\n",
        "# Statevector visualization (Bloch sphere)\n",
        "state = Statevector.from_instruction(qc)\n",
        "print(\"Statevector:\", state)\n",
        "plot_bloch_multivector(state)\n",
        "plt.show()\n",
        "\n",
        "qc.measure(0, 0)\n",
        "\n",
        "# Circuit diagram after measurement (text version)\n",
        "print(\"Circuit after measurement:\")\n",
        "print(qc.draw('text'))\n",
        "\n",
        "simulator = AerSimulator()\n",
        "job = simulator.run(qc, shots=1024)\n",
        "result = job.result()\n",
        "counts = result.get_counts()\n",
        "print(\"Measurement counts:\", counts)\n",
        "\n",
        "# Histogram of measurement results\n",
        "plot_histogram(counts)\n",
        "plt.show()"
      ],
      "metadata": {
        "colab": {
          "base_uri": "https://localhost:8080/"
        },
        "id": "6OXBfGgCUSVR",
        "outputId": "fc1c297d-458d-4b62-d4f6-04a7082ee180"
      },
      "execution_count": 6,
      "outputs": [
        {
          "output_type": "stream",
          "name": "stdout",
          "text": [
            "Circuit before measurement:\n",
            "     ┌───┐\n",
            "  q: ┤ H ├\n",
            "     └───┘\n",
            "c: 1/═════\n",
            "          \n",
            "Statevector: Statevector([0.70710678+0.j, 0.70710678+0.j],\n",
            "            dims=(2,))\n",
            "Circuit after measurement:\n",
            "     ┌───┐┌─┐\n",
            "  q: ┤ H ├┤M├\n",
            "     └───┘└╥┘\n",
            "c: 1/══════╩═\n",
            "           0 \n",
            "Measurement counts: {'1': 521, '0': 503}\n"
          ]
        }
      ]
    },
    {
      "cell_type": "code",
      "source": [
        "!pip install pylatexenc --quiet"
      ],
      "metadata": {
        "colab": {
          "base_uri": "https://localhost:8080/"
        },
        "id": "EYSWCSeBUcji",
        "outputId": "4e956a39-0a16-48e5-99c8-c1c8496b3231"
      },
      "execution_count": 7,
      "outputs": [
        {
          "output_type": "stream",
          "name": "stdout",
          "text": [
            "\u001b[?25l     \u001b[90m━━━━━━━━━━━━━━━━━━━━━━━━━━━━━━━━━━━━━━━━\u001b[0m \u001b[32m0.0/162.6 kB\u001b[0m \u001b[31m?\u001b[0m eta \u001b[36m-:--:--\u001b[0m\r\u001b[2K     \u001b[91m━━━━━━━━━━━━━━━━━━━━━━━━━━━━━━━━━━━━\u001b[0m\u001b[91m╸\u001b[0m\u001b[90m━━\u001b[0m \u001b[32m153.6/162.6 kB\u001b[0m \u001b[31m5.8 MB/s\u001b[0m eta \u001b[36m0:00:01\u001b[0m\r\u001b[2K     \u001b[90m━━━━━━━━━━━━━━━━━━━━━━━━━━━━━━━━━━━━━━━\u001b[0m \u001b[32m162.6/162.6 kB\u001b[0m \u001b[31m4.0 MB/s\u001b[0m eta \u001b[36m0:00:00\u001b[0m\n",
            "\u001b[?25h  Preparing metadata (setup.py) ... \u001b[?25l\u001b[?25hdone\n",
            "  Building wheel for pylatexenc (setup.py) ... \u001b[?25l\u001b[?25hdone\n"
          ]
        }
      ]
    },
    {
      "cell_type": "code",
      "source": [
        "#Task2- Entanglement\n",
        "\n",
        "from qiskit import QuantumCircuit\n",
        "from qiskit_aer import AerSimulator\n",
        "from qiskit.quantum_info import Statevector\n",
        "from qiskit.visualization import plot_histogram, plot_bloch_multivector\n",
        "import matplotlib.pyplot as plt\n",
        "\n",
        "qc = QuantumCircuit(2, 2)\n",
        "qc.h(0)      # Hadamard on qubit 0\n",
        "qc.cx(0, 1)  # CNOT to entangle q0 -> q1\n",
        "\n",
        "# Circuit diagram before measurement (text version)\n",
        "print(\"Circuit before measurement:\")\n",
        "print(qc.draw('text'))\n",
        "\n",
        "# Statevector visualization (Bloch spheres)\n",
        "state = Statevector.from_instruction(qc)\n",
        "print(\"Statevector:\", state)\n",
        "plot_bloch_multivector(state)\n",
        "plt.show()\n",
        "\n",
        "qc.measure([0, 1], [0, 1])\n",
        "\n",
        "# Circuit diagram after measurement (text version)\n",
        "print(\"Circuit after measurement:\")\n",
        "print(qc.draw('text'))\n",
        "\n",
        "simulator = AerSimulator()\n",
        "job = simulator.run(qc, shots=1024)\n",
        "result = job.result()\n",
        "counts = result.get_counts()\n",
        "print(\"Measurement counts:\", counts)\n",
        "\n",
        "# Histogram of measurement results\n",
        "plot_histogram(counts)\n",
        "plt.show()"
      ],
      "metadata": {
        "colab": {
          "base_uri": "https://localhost:8080/"
        },
        "id": "Flzg-Y9qUfYQ",
        "outputId": "54d74281-42c5-4405-99a9-38c7b8e8abdc"
      },
      "execution_count": 8,
      "outputs": [
        {
          "output_type": "stream",
          "name": "stdout",
          "text": [
            "Circuit before measurement:\n",
            "     ┌───┐     \n",
            "q_0: ┤ H ├──■──\n",
            "     └───┘┌─┴─┐\n",
            "q_1: ─────┤ X ├\n",
            "          └───┘\n",
            "c: 2/══════════\n",
            "               \n",
            "Statevector: Statevector([0.70710678+0.j, 0.        +0.j, 0.        +0.j,\n",
            "             0.70710678+0.j],\n",
            "            dims=(2, 2))\n",
            "Circuit after measurement:\n",
            "     ┌───┐     ┌─┐   \n",
            "q_0: ┤ H ├──■──┤M├───\n",
            "     └───┘┌─┴─┐└╥┘┌─┐\n",
            "q_1: ─────┤ X ├─╫─┤M├\n",
            "          └───┘ ║ └╥┘\n",
            "c: 2/═══════════╩══╩═\n",
            "                0  1 \n",
            "Measurement counts: {'11': 497, '00': 527}\n"
          ]
        }
      ]
    }
  ]
}